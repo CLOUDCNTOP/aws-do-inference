{
 "cells": [
  {
   "cell_type": "markdown",
   "metadata": {},
   "source": [
    "## 概览\n",
    "\n",
    "注意先调整 config.properties，设置区域等参数。\n",
    "\n",
    "## CPU\n",
    "\n"
   ]
  },
  {
   "cell_type": "code",
   "execution_count": null,
   "metadata": {
    "vscode": {
     "languageId": "plaintext"
    }
   },
   "outputs": [],
   "source": [
    "%%bash\n",
    "# 1. Build\n",
    "./build.sh"
   ]
  },
  {
   "cell_type": "code",
   "execution_count": null,
   "metadata": {
    "vscode": {
     "languageId": "plaintext"
    }
   },
   "outputs": [],
   "source": [
    "%%bash\n",
    "# 2. Compile/Trace\n",
    "./trace.sh # CPU 模式下，Cloud9 可以直接执行"
   ]
  },
  {
   "cell_type": "code",
   "execution_count": null,
   "metadata": {
    "vscode": {
     "languageId": "plaintext"
    }
   },
   "outputs": [],
   "source": [
    "%%bash\n",
    "# 3. Pack\n",
    "./pack.sh # 打包\n",
    "\n",
    "./pack.sh push # 推送"
   ]
  },
  {
   "cell_type": "code",
   "execution_count": null,
   "metadata": {
    "vscode": {
     "languageId": "plaintext"
    }
   },
   "outputs": [],
   "source": [
    "%%bash\n",
    "# 4. Deploy\n",
    "./deploy.sh"
   ]
  },
  {
   "cell_type": "code",
   "execution_count": null,
   "metadata": {
    "vscode": {
     "languageId": "plaintext"
    }
   },
   "outputs": [],
   "source": [
    "%%bash\n",
    "# 5. Test\n",
    "./test.sh build\n",
    "\n",
    "./test.sh push\n",
    "\n",
    "./test.sh run seq"
   ]
  },
  {
   "cell_type": "markdown",
   "metadata": {},
   "source": [
    "## Inf1\n",
    "\n",
    "1. 首先调整 config.properties：\n",
    "- processor=inf1\n",
    "- instance_type=inf1.2xlarge\n",
    "- region=<xxx>\n",
    "\n",
    "2. 拉起构建机器\n",
    "- EC2控制台，AMI 搜索 `Neuron`\n",
    "- Karpenter\n",
    "  - 如果不加 Family，自动拉起选择的 AMI 是 GPU 系列，例如 amazon-eks-gpu-node-1.27-v20230728，需要额外安装很多工具包\n",
    "\n",
    "3. 准备开发环境\n",
    "- SSH 到机器\n",
    "- `source /opt/aws_neuron_venv_pytorch_inf1/bin/activate`\n",
    "- Git, Docker 等\n",
    "\n",
    "4. 准备代码\n",
    "```shell\n",
    "git clone https://github.com/CLOUDCNTOP/aws-do-inference.git\n",
    "```\n",
    "\n",
    "5. 开始构建\n",
    "```shell\n",
    "./build.sh\n",
    "```\n",
    "\n",
    "6. 适配 Inf1\n",
    "\n",
    "先参考 `r-Dockerfile-base-inf1` 调整原 `Dockerfile-base-inf1`，再执行：\n",
    "```shell\n",
    "./trace.sh\n",
    "```\n",
    "\n",
    "后续流程与 CPU 类似，可以把生成的模型拷贝到 S3，再统一到 Cloud9 操作。\n",
    "```\n",
    "aws s3 cp ./traced-bert-base-multilingual-cased/bert-base-multilingual-cased_bs1_seq128_pc1_inf1.pt s3://xxx/traced-bert-base-multilingual-cased/bert-base-multilingual-cased_bs1_seq128_pc1_inf1.pt\n",
    "```\n"
   ]
  }
 ],
 "metadata": {
  "language_info": {
   "name": "python"
  },
  "orig_nbformat": 4
 },
 "nbformat": 4,
 "nbformat_minor": 2
}
